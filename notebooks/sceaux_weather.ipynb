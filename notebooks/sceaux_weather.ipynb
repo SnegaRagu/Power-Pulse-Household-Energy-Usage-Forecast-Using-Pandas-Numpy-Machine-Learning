{
 "cells": [
  {
   "cell_type": "markdown",
   "id": "d8665ee3-5e52-4a72-b4cc-e95a9dbd5ab1",
   "metadata": {},
   "source": [
    "# INSTALLING NECESSARY LIBRARIES"
   ]
  },
  {
   "cell_type": "markdown",
   "id": "ae7038d4-1cb1-4499-94b0-de0fbfee2aa0",
   "metadata": {},
   "source": [
    "## METEOSTAT\n",
    "\n",
    "    * PYTHON LIBRARY/API\n",
    "    * Provides historical weather data from weather stations"
   ]
  },
  {
   "cell_type": "code",
   "execution_count": 3,
   "id": "9ea2b08c-c927-48d1-b54a-4da2ad04f7e2",
   "metadata": {},
   "outputs": [
    {
     "name": "stdout",
     "output_type": "stream",
     "text": [
      "Requirement already satisfied: meteostat in c:\\users\\snega\\anaconda3\\lib\\site-packages (1.7.4)\n",
      "Requirement already satisfied: pandas>=2 in c:\\users\\snega\\anaconda3\\lib\\site-packages (from meteostat) (2.2.2)\n",
      "Requirement already satisfied: pytz in c:\\users\\snega\\anaconda3\\lib\\site-packages (from meteostat) (2024.1)\n",
      "Requirement already satisfied: numpy in c:\\users\\snega\\anaconda3\\lib\\site-packages (from meteostat) (1.26.4)\n",
      "Requirement already satisfied: python-dateutil>=2.8.2 in c:\\users\\snega\\anaconda3\\lib\\site-packages (from pandas>=2->meteostat) (2.9.0.post0)\n",
      "Requirement already satisfied: tzdata>=2022.7 in c:\\users\\snega\\anaconda3\\lib\\site-packages (from pandas>=2->meteostat) (2023.3)\n",
      "Requirement already satisfied: six>=1.5 in c:\\users\\snega\\anaconda3\\lib\\site-packages (from python-dateutil>=2.8.2->pandas>=2->meteostat) (1.16.0)\n"
     ]
    }
   ],
   "source": [
    "!pip install meteostat"
   ]
  },
  {
   "attachments": {},
   "cell_type": "markdown",
   "id": "061ecc31-3e54-4613-9c35-2f8a2b46ceba",
   "metadata": {},
   "source": [
    "## GEOPY\n",
    "\n",
    "    * PYTHON CLIENT FOR GEO-CODING SERVICES"
   ]
  },
  {
   "cell_type": "code",
   "execution_count": 5,
   "id": "9c742c8b-2f9b-4828-b33d-ab33ea11f0c8",
   "metadata": {},
   "outputs": [
    {
     "name": "stdout",
     "output_type": "stream",
     "text": [
      "Requirement already satisfied: geopy in c:\\users\\snega\\anaconda3\\lib\\site-packages (2.4.1)\n",
      "Requirement already satisfied: geographiclib<3,>=1.52 in c:\\users\\snega\\anaconda3\\lib\\site-packages (from geopy) (2.0)\n"
     ]
    }
   ],
   "source": [
    "!pip install geopy"
   ]
  },
  {
   "cell_type": "markdown",
   "id": "d5c4fd40-e2f4-43bd-82c9-89dd8b1df825",
   "metadata": {},
   "source": [
    "# IMPORTING LIBRARIES"
   ]
  },
  {
   "cell_type": "code",
   "execution_count": 7,
   "id": "5da7a212-e3ba-4fa6-9331-07fc4c4ec1fe",
   "metadata": {},
   "outputs": [],
   "source": [
    "from datetime import datetime\n",
    "from meteostat import Daily, Hourly, Stations\n",
    "\n",
    "from geopy.distance import geodesic\n",
    "\n",
    "import pandas as pd\n",
    "import numpy as np\n",
    "\n",
    "import matplotlib.pyplot as plt\n",
    "import seaborn as sns"
   ]
  },
  {
   "cell_type": "markdown",
   "id": "2fb2643c-0f7e-4390-a1f6-b1b8e0f336bb",
   "metadata": {},
   "source": [
    "# LOCATION FOR Sceaux (7km of Paris, France)"
   ]
  },
  {
   "cell_type": "code",
   "execution_count": 9,
   "id": "dbb8c8c9-8585-413c-bed2-48c548bbb4b9",
   "metadata": {},
   "outputs": [],
   "source": [
    "lat_sceaux = 48.7780\n",
    "long_sceaux = 2.2951"
   ]
  },
  {
   "cell_type": "markdown",
   "id": "e09b9487-de8a-4c7f-9b68-dc813711aacc",
   "metadata": {},
   "source": [
    "# GET WEATHER DATA FOR PERIOD December 2006 and November 2010"
   ]
  },
  {
   "cell_type": "markdown",
   "id": "b7564be1-5b9c-46ae-9592-212f7a0f27d0",
   "metadata": {},
   "source": [
    "GET CLOSEST STATION FROM SCEAUX"
   ]
  },
  {
   "cell_type": "code",
   "execution_count": 12,
   "id": "0809c3d4-c829-416c-b570-7501a2a600ec",
   "metadata": {},
   "outputs": [],
   "source": [
    "start = datetime(2006, 12, 16)\n",
    "end = datetime(2011, 11, 27)"
   ]
  },
  {
   "cell_type": "code",
   "execution_count": 13,
   "id": "75ccb027-55e1-4889-b4bc-2c66df5dc50e",
   "metadata": {},
   "outputs": [],
   "source": [
    "def get_closest_stations(lat, lon, limit=5):\n",
    "    # Fetch all stations in France\n",
    "    stations = Stations().region('FR').fetch()\n",
    "    \n",
    "    # Calculate distance from given location\n",
    "    stations['distance_km'] = stations.apply(lambda row: geodesic((lat, lon), (row['latitude'], row['longitude'])).km, axis=1)\n",
    "    \n",
    "    # Sort by distance and return top N\n",
    "    return stations.sort_values('distance_km').head(1)"
   ]
  },
  {
   "cell_type": "code",
   "execution_count": 14,
   "id": "da5fdbfc-fc3b-49d7-9a9c-5067b9c11e2a",
   "metadata": {},
   "outputs": [
    {
     "data": {
      "text/html": [
       "<div>\n",
       "<style scoped>\n",
       "    .dataframe tbody tr th:only-of-type {\n",
       "        vertical-align: middle;\n",
       "    }\n",
       "\n",
       "    .dataframe tbody tr th {\n",
       "        vertical-align: top;\n",
       "    }\n",
       "\n",
       "    .dataframe thead th {\n",
       "        text-align: right;\n",
       "    }\n",
       "</style>\n",
       "<table border=\"1\" class=\"dataframe\">\n",
       "  <thead>\n",
       "    <tr style=\"text-align: right;\">\n",
       "      <th></th>\n",
       "      <th>name</th>\n",
       "      <th>country</th>\n",
       "      <th>region</th>\n",
       "      <th>wmo</th>\n",
       "      <th>icao</th>\n",
       "      <th>latitude</th>\n",
       "      <th>longitude</th>\n",
       "      <th>elevation</th>\n",
       "      <th>timezone</th>\n",
       "      <th>hourly_start</th>\n",
       "      <th>hourly_end</th>\n",
       "      <th>daily_start</th>\n",
       "      <th>daily_end</th>\n",
       "      <th>monthly_start</th>\n",
       "      <th>monthly_end</th>\n",
       "      <th>distance_km</th>\n",
       "    </tr>\n",
       "    <tr>\n",
       "      <th>id</th>\n",
       "      <th></th>\n",
       "      <th></th>\n",
       "      <th></th>\n",
       "      <th></th>\n",
       "      <th></th>\n",
       "      <th></th>\n",
       "      <th></th>\n",
       "      <th></th>\n",
       "      <th></th>\n",
       "      <th></th>\n",
       "      <th></th>\n",
       "      <th></th>\n",
       "      <th></th>\n",
       "      <th></th>\n",
       "      <th></th>\n",
       "      <th></th>\n",
       "    </tr>\n",
       "  </thead>\n",
       "  <tbody>\n",
       "    <tr>\n",
       "      <th>07156</th>\n",
       "      <td>Paris-Montsouris</td>\n",
       "      <td>FR</td>\n",
       "      <td>J</td>\n",
       "      <td>07156</td>\n",
       "      <td>&lt;NA&gt;</td>\n",
       "      <td>48.8167</td>\n",
       "      <td>2.3333</td>\n",
       "      <td>75.0</td>\n",
       "      <td>Europe/Paris</td>\n",
       "      <td>1983-12-01</td>\n",
       "      <td>2025-01-13</td>\n",
       "      <td>1900-01-01</td>\n",
       "      <td>2022-03-28</td>\n",
       "      <td>1900-01-01</td>\n",
       "      <td>2021-01-01</td>\n",
       "      <td>5.137887</td>\n",
       "    </tr>\n",
       "  </tbody>\n",
       "</table>\n",
       "</div>"
      ],
      "text/plain": [
       "                   name country region    wmo  icao  latitude  longitude  \\\n",
       "id                                                                         \n",
       "07156  Paris-Montsouris      FR      J  07156  <NA>   48.8167     2.3333   \n",
       "\n",
       "       elevation      timezone hourly_start hourly_end daily_start  daily_end  \\\n",
       "id                                                                              \n",
       "07156       75.0  Europe/Paris   1983-12-01 2025-01-13  1900-01-01 2022-03-28   \n",
       "\n",
       "      monthly_start monthly_end  distance_km  \n",
       "id                                            \n",
       "07156    1900-01-01  2021-01-01     5.137887  "
      ]
     },
     "execution_count": 14,
     "metadata": {},
     "output_type": "execute_result"
    }
   ],
   "source": [
    "closest_station = get_closest_stations(48.7780, 2.2951) ## Giving manually the coordinates of Sceaux since geopy is not accurate\n",
    "\n",
    "closest_station"
   ]
  },
  {
   "cell_type": "markdown",
   "id": "be900321-0084-4549-a99a-fd4e102d7e19",
   "metadata": {},
   "source": [
    "DAILY WEATHER"
   ]
  },
  {
   "cell_type": "code",
   "execution_count": 16,
   "id": "45f7f5ab-6aff-4eec-9220-da1ffafe9069",
   "metadata": {},
   "outputs": [],
   "source": [
    "data = Daily(closest_station.index[0], start, end)\n",
    "daily_weather_df = data.fetch()"
   ]
  },
  {
   "cell_type": "markdown",
   "id": "2fdfee60-4f2f-4405-876f-203578339ac9",
   "metadata": {},
   "source": [
    "Parameter\tDescription\t                            Type\n",
    "* date\tThe date string (YYYY-MM-DD)\t            String\n",
    "* tavg\tThe average air temperature in °C\t        Float\n",
    "* tmin\tThe minimum air temperature in °C\t        Float\n",
    "* tmax\tThe maximum air temperature in °C\t        Float\n",
    "* prcp\tThe daily precipitation total in mm\t        Float\n",
    "* snow\tThe maximum snow depth in mm\t            Integer\n",
    "* wdir\tThe average wind direction in degrees (°)\tInteger\n",
    "* wspd\tThe average wind speed in km/h\t            Float\n",
    "* wpgt\tThe peak wind gust in km/h\t                Float\n",
    "* pres\tThe average sea-level air pressure in hPa\tFloat\n",
    "* tsun\tThe daily sunshine total in minutes (m)\t    Integer"
   ]
  },
  {
   "cell_type": "code",
   "execution_count": 18,
   "id": "273a7923-a2a6-46f1-af0a-b296adc7400b",
   "metadata": {},
   "outputs": [
    {
     "data": {
      "text/html": [
       "<div>\n",
       "<style scoped>\n",
       "    .dataframe tbody tr th:only-of-type {\n",
       "        vertical-align: middle;\n",
       "    }\n",
       "\n",
       "    .dataframe tbody tr th {\n",
       "        vertical-align: top;\n",
       "    }\n",
       "\n",
       "    .dataframe thead th {\n",
       "        text-align: right;\n",
       "    }\n",
       "</style>\n",
       "<table border=\"1\" class=\"dataframe\">\n",
       "  <thead>\n",
       "    <tr style=\"text-align: right;\">\n",
       "      <th></th>\n",
       "      <th>tavg</th>\n",
       "      <th>tmin</th>\n",
       "      <th>tmax</th>\n",
       "      <th>prcp</th>\n",
       "      <th>snow</th>\n",
       "      <th>wdir</th>\n",
       "      <th>wspd</th>\n",
       "      <th>wpgt</th>\n",
       "      <th>pres</th>\n",
       "      <th>tsun</th>\n",
       "    </tr>\n",
       "    <tr>\n",
       "      <th>time</th>\n",
       "      <th></th>\n",
       "      <th></th>\n",
       "      <th></th>\n",
       "      <th></th>\n",
       "      <th></th>\n",
       "      <th></th>\n",
       "      <th></th>\n",
       "      <th></th>\n",
       "      <th></th>\n",
       "      <th></th>\n",
       "    </tr>\n",
       "  </thead>\n",
       "  <tbody>\n",
       "    <tr>\n",
       "      <th>2006-12-16</th>\n",
       "      <td>6.2</td>\n",
       "      <td>4.0</td>\n",
       "      <td>8.5</td>\n",
       "      <td>&lt;NA&gt;</td>\n",
       "      <td>&lt;NA&gt;</td>\n",
       "      <td>&lt;NA&gt;</td>\n",
       "      <td>12.3</td>\n",
       "      <td>&lt;NA&gt;</td>\n",
       "      <td>1024.1</td>\n",
       "      <td>&lt;NA&gt;</td>\n",
       "    </tr>\n",
       "    <tr>\n",
       "      <th>2006-12-17</th>\n",
       "      <td>4.4</td>\n",
       "      <td>1.2</td>\n",
       "      <td>7.9</td>\n",
       "      <td>&lt;NA&gt;</td>\n",
       "      <td>&lt;NA&gt;</td>\n",
       "      <td>&lt;NA&gt;</td>\n",
       "      <td>4.6</td>\n",
       "      <td>&lt;NA&gt;</td>\n",
       "      <td>1029.5</td>\n",
       "      <td>&lt;NA&gt;</td>\n",
       "    </tr>\n",
       "    <tr>\n",
       "      <th>2006-12-18</th>\n",
       "      <td>4.6</td>\n",
       "      <td>3.4</td>\n",
       "      <td>5.9</td>\n",
       "      <td>&lt;NA&gt;</td>\n",
       "      <td>&lt;NA&gt;</td>\n",
       "      <td>&lt;NA&gt;</td>\n",
       "      <td>6.5</td>\n",
       "      <td>&lt;NA&gt;</td>\n",
       "      <td>1029.0</td>\n",
       "      <td>&lt;NA&gt;</td>\n",
       "    </tr>\n",
       "    <tr>\n",
       "      <th>2006-12-19</th>\n",
       "      <td>2.6</td>\n",
       "      <td>0.5</td>\n",
       "      <td>5.1</td>\n",
       "      <td>&lt;NA&gt;</td>\n",
       "      <td>&lt;NA&gt;</td>\n",
       "      <td>&lt;NA&gt;</td>\n",
       "      <td>14.8</td>\n",
       "      <td>&lt;NA&gt;</td>\n",
       "      <td>1034.0</td>\n",
       "      <td>&lt;NA&gt;</td>\n",
       "    </tr>\n",
       "    <tr>\n",
       "      <th>2006-12-20</th>\n",
       "      <td>2.9</td>\n",
       "      <td>0.5</td>\n",
       "      <td>5.6</td>\n",
       "      <td>&lt;NA&gt;</td>\n",
       "      <td>&lt;NA&gt;</td>\n",
       "      <td>&lt;NA&gt;</td>\n",
       "      <td>13.4</td>\n",
       "      <td>&lt;NA&gt;</td>\n",
       "      <td>1037.5</td>\n",
       "      <td>&lt;NA&gt;</td>\n",
       "    </tr>\n",
       "  </tbody>\n",
       "</table>\n",
       "</div>"
      ],
      "text/plain": [
       "            tavg  tmin  tmax  prcp  snow  wdir  wspd  wpgt    pres  tsun\n",
       "time                                                                    \n",
       "2006-12-16   6.2   4.0   8.5  <NA>  <NA>  <NA>  12.3  <NA>  1024.1  <NA>\n",
       "2006-12-17   4.4   1.2   7.9  <NA>  <NA>  <NA>   4.6  <NA>  1029.5  <NA>\n",
       "2006-12-18   4.6   3.4   5.9  <NA>  <NA>  <NA>   6.5  <NA>  1029.0  <NA>\n",
       "2006-12-19   2.6   0.5   5.1  <NA>  <NA>  <NA>  14.8  <NA>  1034.0  <NA>\n",
       "2006-12-20   2.9   0.5   5.6  <NA>  <NA>  <NA>  13.4  <NA>  1037.5  <NA>"
      ]
     },
     "execution_count": 18,
     "metadata": {},
     "output_type": "execute_result"
    }
   ],
   "source": [
    "daily_weather_df.head()"
   ]
  },
  {
   "cell_type": "code",
   "execution_count": 19,
   "id": "ce80386e-5aa9-4438-b9da-70119b874166",
   "metadata": {},
   "outputs": [
    {
     "data": {
      "text/html": [
       "<div>\n",
       "<style scoped>\n",
       "    .dataframe tbody tr th:only-of-type {\n",
       "        vertical-align: middle;\n",
       "    }\n",
       "\n",
       "    .dataframe tbody tr th {\n",
       "        vertical-align: top;\n",
       "    }\n",
       "\n",
       "    .dataframe thead th {\n",
       "        text-align: right;\n",
       "    }\n",
       "</style>\n",
       "<table border=\"1\" class=\"dataframe\">\n",
       "  <thead>\n",
       "    <tr style=\"text-align: right;\">\n",
       "      <th></th>\n",
       "      <th>tavg</th>\n",
       "      <th>tmin</th>\n",
       "      <th>tmax</th>\n",
       "      <th>prcp</th>\n",
       "      <th>snow</th>\n",
       "      <th>wdir</th>\n",
       "      <th>wspd</th>\n",
       "      <th>wpgt</th>\n",
       "      <th>pres</th>\n",
       "      <th>tsun</th>\n",
       "    </tr>\n",
       "    <tr>\n",
       "      <th>time</th>\n",
       "      <th></th>\n",
       "      <th></th>\n",
       "      <th></th>\n",
       "      <th></th>\n",
       "      <th></th>\n",
       "      <th></th>\n",
       "      <th></th>\n",
       "      <th></th>\n",
       "      <th></th>\n",
       "      <th></th>\n",
       "    </tr>\n",
       "  </thead>\n",
       "  <tbody>\n",
       "    <tr>\n",
       "      <th>2011-11-23</th>\n",
       "      <td>11.2</td>\n",
       "      <td>9.1</td>\n",
       "      <td>13.7</td>\n",
       "      <td>&lt;NA&gt;</td>\n",
       "      <td>&lt;NA&gt;</td>\n",
       "      <td>&lt;NA&gt;</td>\n",
       "      <td>6.1</td>\n",
       "      <td>&lt;NA&gt;</td>\n",
       "      <td>1026.9</td>\n",
       "      <td>&lt;NA&gt;</td>\n",
       "    </tr>\n",
       "    <tr>\n",
       "      <th>2011-11-24</th>\n",
       "      <td>9.6</td>\n",
       "      <td>7.7</td>\n",
       "      <td>11.3</td>\n",
       "      <td>&lt;NA&gt;</td>\n",
       "      <td>&lt;NA&gt;</td>\n",
       "      <td>&lt;NA&gt;</td>\n",
       "      <td>6.0</td>\n",
       "      <td>&lt;NA&gt;</td>\n",
       "      <td>1031.6</td>\n",
       "      <td>&lt;NA&gt;</td>\n",
       "    </tr>\n",
       "    <tr>\n",
       "      <th>2011-11-25</th>\n",
       "      <td>7.5</td>\n",
       "      <td>5.0</td>\n",
       "      <td>10.0</td>\n",
       "      <td>&lt;NA&gt;</td>\n",
       "      <td>&lt;NA&gt;</td>\n",
       "      <td>&lt;NA&gt;</td>\n",
       "      <td>7.8</td>\n",
       "      <td>&lt;NA&gt;</td>\n",
       "      <td>1029.8</td>\n",
       "      <td>&lt;NA&gt;</td>\n",
       "    </tr>\n",
       "    <tr>\n",
       "      <th>2011-11-26</th>\n",
       "      <td>6.6</td>\n",
       "      <td>5.3</td>\n",
       "      <td>7.8</td>\n",
       "      <td>&lt;NA&gt;</td>\n",
       "      <td>&lt;NA&gt;</td>\n",
       "      <td>&lt;NA&gt;</td>\n",
       "      <td>9.1</td>\n",
       "      <td>&lt;NA&gt;</td>\n",
       "      <td>1032.6</td>\n",
       "      <td>&lt;NA&gt;</td>\n",
       "    </tr>\n",
       "    <tr>\n",
       "      <th>2011-11-27</th>\n",
       "      <td>10.3</td>\n",
       "      <td>6.2</td>\n",
       "      <td>13.7</td>\n",
       "      <td>&lt;NA&gt;</td>\n",
       "      <td>&lt;NA&gt;</td>\n",
       "      <td>&lt;NA&gt;</td>\n",
       "      <td>10.2</td>\n",
       "      <td>&lt;NA&gt;</td>\n",
       "      <td>1026.7</td>\n",
       "      <td>&lt;NA&gt;</td>\n",
       "    </tr>\n",
       "  </tbody>\n",
       "</table>\n",
       "</div>"
      ],
      "text/plain": [
       "            tavg  tmin  tmax  prcp  snow  wdir  wspd  wpgt    pres  tsun\n",
       "time                                                                    \n",
       "2011-11-23  11.2   9.1  13.7  <NA>  <NA>  <NA>   6.1  <NA>  1026.9  <NA>\n",
       "2011-11-24   9.6   7.7  11.3  <NA>  <NA>  <NA>   6.0  <NA>  1031.6  <NA>\n",
       "2011-11-25   7.5   5.0  10.0  <NA>  <NA>  <NA>   7.8  <NA>  1029.8  <NA>\n",
       "2011-11-26   6.6   5.3   7.8  <NA>  <NA>  <NA>   9.1  <NA>  1032.6  <NA>\n",
       "2011-11-27  10.3   6.2  13.7  <NA>  <NA>  <NA>  10.2  <NA>  1026.7  <NA>"
      ]
     },
     "execution_count": 19,
     "metadata": {},
     "output_type": "execute_result"
    }
   ],
   "source": [
    "daily_weather_df.tail()"
   ]
  },
  {
   "cell_type": "code",
   "execution_count": 20,
   "id": "22bd050c-adcf-4dc3-b3fb-64563f16696d",
   "metadata": {},
   "outputs": [
    {
     "data": {
      "text/plain": [
       "(1707, 10)"
      ]
     },
     "execution_count": 20,
     "metadata": {},
     "output_type": "execute_result"
    }
   ],
   "source": [
    "daily_weather_df.shape"
   ]
  },
  {
   "cell_type": "code",
   "execution_count": 21,
   "id": "9aa89416-3d0e-44bf-a825-5727ae065c40",
   "metadata": {},
   "outputs": [
    {
     "name": "stdout",
     "output_type": "stream",
     "text": [
      "Missing Ratio of tavg : 0.00%\n",
      "Missing Ratio of tmin : 9.84%\n",
      "Missing Ratio of tmax : 9.84%\n",
      "Missing Ratio of prcp : 100.00%\n",
      "Missing Ratio of snow : 100.00%\n",
      "Missing Ratio of wdir : 100.00%\n",
      "Missing Ratio of wspd : 0.12%\n",
      "Missing Ratio of wpgt : 100.00%\n",
      "Missing Ratio of pres : 0.06%\n",
      "Missing Ratio of tsun : 100.00%\n"
     ]
    }
   ],
   "source": [
    "num_col = daily_weather_df.select_dtypes(include=['number']).columns.tolist()\n",
    "                                         \n",
    "for col in num_col:\n",
    "    missing_rows = daily_weather_df[col].isnull().sum()\n",
    "    total_rows = len(daily_weather_df[col])\n",
    "    missing_ratio = missing_rows/total_rows\n",
    "    print(f\"Missing Ratio of {col} : {(missing_ratio*100):.2f}%\")"
   ]
  },
  {
   "cell_type": "code",
   "execution_count": 22,
   "id": "f654087d-073c-4c5e-9981-22b4a7ff2f6b",
   "metadata": {},
   "outputs": [
    {
     "name": "stdout",
     "output_type": "stream",
     "text": [
      "<class 'pandas.core.frame.DataFrame'>\n",
      "DatetimeIndex: 1707 entries, 2006-12-16 to 2011-11-27\n",
      "Data columns (total 10 columns):\n",
      " #   Column  Non-Null Count  Dtype  \n",
      "---  ------  --------------  -----  \n",
      " 0   tavg    1707 non-null   Float64\n",
      " 1   tmin    1539 non-null   Float64\n",
      " 2   tmax    1539 non-null   Float64\n",
      " 3   prcp    0 non-null      Float64\n",
      " 4   snow    0 non-null      Float64\n",
      " 5   wdir    0 non-null      Float64\n",
      " 6   wspd    1705 non-null   Float64\n",
      " 7   wpgt    0 non-null      Float64\n",
      " 8   pres    1706 non-null   Float64\n",
      " 9   tsun    0 non-null      Float64\n",
      "dtypes: Float64(10)\n",
      "memory usage: 163.4 KB\n"
     ]
    }
   ],
   "source": [
    "daily_weather_df.info()"
   ]
  },
  {
   "cell_type": "code",
   "execution_count": 23,
   "id": "6473f056-3499-4a27-9161-8ff21c3a22ca",
   "metadata": {},
   "outputs": [],
   "source": [
    "# dropping columns have no values\n",
    "daily_weather_df.drop(columns=['prcp', 'snow', 'wdir', 'wpgt', 'tsun'], inplace=True)"
   ]
  },
  {
   "cell_type": "code",
   "execution_count": 24,
   "id": "5df298aa-c18e-4433-929a-8b12a7a5e11e",
   "metadata": {},
   "outputs": [],
   "source": [
    "# filling missing values with time interpolation\n",
    "daily_weather_df.index = pd.to_datetime(daily_weather_df.index)\n",
    "daily_weather_df = daily_weather_df.sort_index()\n",
    "\n",
    "daily_weather_df = daily_weather_df.interpolate(method=\"time\")"
   ]
  },
  {
   "cell_type": "code",
   "execution_count": 25,
   "id": "6e7d5995-e694-4a32-bcce-b3d7088ac854",
   "metadata": {},
   "outputs": [
    {
     "data": {
      "text/plain": [
       "Index(['tavg', 'tmin', 'tmax', 'wspd', 'pres'], dtype='object')"
      ]
     },
     "execution_count": 25,
     "metadata": {},
     "output_type": "execute_result"
    }
   ],
   "source": [
    "daily_weather_df.columns"
   ]
  },
  {
   "cell_type": "code",
   "execution_count": 26,
   "id": "8b5ef57a-ed28-4324-bcf3-c076f6b53351",
   "metadata": {},
   "outputs": [
    {
     "name": "stdout",
     "output_type": "stream",
     "text": [
      "Shape : (1707, 5)\n",
      "NULL COUNT : \n"
     ]
    },
    {
     "data": {
      "text/plain": [
       "tavg    0\n",
       "tmin    0\n",
       "tmax    0\n",
       "wspd    0\n",
       "pres    0\n",
       "dtype: int64"
      ]
     },
     "execution_count": 26,
     "metadata": {},
     "output_type": "execute_result"
    }
   ],
   "source": [
    "print(f\"Shape : {daily_weather_df.shape}\")\n",
    "print(f\"NULL COUNT : \")\n",
    "daily_weather_df.isnull().sum()"
   ]
  },
  {
   "cell_type": "markdown",
   "id": "26af7e0b-6434-401c-9762-3b2fc1d9a1dd",
   "metadata": {},
   "source": [
    "## HOURLY WEATHER"
   ]
  },
  {
   "cell_type": "code",
   "execution_count": 80,
   "id": "b00709af-c487-4994-8d0d-10e236db552c",
   "metadata": {},
   "outputs": [],
   "source": [
    "data = Hourly(closest_station.index[0], start, end)\n",
    "hourly_weather_df = data.fetch()"
   ]
  },
  {
   "cell_type": "code",
   "execution_count": 82,
   "id": "094027be-5343-403b-a2a7-bbbbc35f8f36",
   "metadata": {},
   "outputs": [],
   "source": [
    "pd.set_option('display.float_format', '{:.2f}'.format)"
   ]
  },
  {
   "cell_type": "code",
   "execution_count": 84,
   "id": "39b8cce4-02e1-448b-8001-f014be8c1b3f",
   "metadata": {},
   "outputs": [
    {
     "data": {
      "text/html": [
       "<div>\n",
       "<style scoped>\n",
       "    .dataframe tbody tr th:only-of-type {\n",
       "        vertical-align: middle;\n",
       "    }\n",
       "\n",
       "    .dataframe tbody tr th {\n",
       "        vertical-align: top;\n",
       "    }\n",
       "\n",
       "    .dataframe thead th {\n",
       "        text-align: right;\n",
       "    }\n",
       "</style>\n",
       "<table border=\"1\" class=\"dataframe\">\n",
       "  <thead>\n",
       "    <tr style=\"text-align: right;\">\n",
       "      <th></th>\n",
       "      <th>temp</th>\n",
       "      <th>dwpt</th>\n",
       "      <th>rhum</th>\n",
       "      <th>prcp</th>\n",
       "      <th>snow</th>\n",
       "      <th>wdir</th>\n",
       "      <th>wspd</th>\n",
       "      <th>wpgt</th>\n",
       "      <th>pres</th>\n",
       "      <th>tsun</th>\n",
       "      <th>coco</th>\n",
       "    </tr>\n",
       "    <tr>\n",
       "      <th>time</th>\n",
       "      <th></th>\n",
       "      <th></th>\n",
       "      <th></th>\n",
       "      <th></th>\n",
       "      <th></th>\n",
       "      <th></th>\n",
       "      <th></th>\n",
       "      <th></th>\n",
       "      <th></th>\n",
       "      <th></th>\n",
       "      <th></th>\n",
       "    </tr>\n",
       "  </thead>\n",
       "  <tbody>\n",
       "    <tr>\n",
       "      <th>2010-06-29 09:00:00</th>\n",
       "      <td>&lt;NA&gt;</td>\n",
       "      <td>&lt;NA&gt;</td>\n",
       "      <td>&lt;NA&gt;</td>\n",
       "      <td>&lt;NA&gt;</td>\n",
       "      <td>&lt;NA&gt;</td>\n",
       "      <td>&lt;NA&gt;</td>\n",
       "      <td>&lt;NA&gt;</td>\n",
       "      <td>&lt;NA&gt;</td>\n",
       "      <td>&lt;NA&gt;</td>\n",
       "      <td>&lt;NA&gt;</td>\n",
       "      <td>&lt;NA&gt;</td>\n",
       "    </tr>\n",
       "    <tr>\n",
       "      <th>2011-03-06 06:00:00</th>\n",
       "      <td>&lt;NA&gt;</td>\n",
       "      <td>&lt;NA&gt;</td>\n",
       "      <td>&lt;NA&gt;</td>\n",
       "      <td>&lt;NA&gt;</td>\n",
       "      <td>&lt;NA&gt;</td>\n",
       "      <td>&lt;NA&gt;</td>\n",
       "      <td>&lt;NA&gt;</td>\n",
       "      <td>&lt;NA&gt;</td>\n",
       "      <td>&lt;NA&gt;</td>\n",
       "      <td>&lt;NA&gt;</td>\n",
       "      <td>&lt;NA&gt;</td>\n",
       "    </tr>\n",
       "    <tr>\n",
       "      <th>2011-05-08 11:00:00</th>\n",
       "      <td>&lt;NA&gt;</td>\n",
       "      <td>&lt;NA&gt;</td>\n",
       "      <td>&lt;NA&gt;</td>\n",
       "      <td>&lt;NA&gt;</td>\n",
       "      <td>&lt;NA&gt;</td>\n",
       "      <td>&lt;NA&gt;</td>\n",
       "      <td>&lt;NA&gt;</td>\n",
       "      <td>&lt;NA&gt;</td>\n",
       "      <td>&lt;NA&gt;</td>\n",
       "      <td>&lt;NA&gt;</td>\n",
       "      <td>&lt;NA&gt;</td>\n",
       "    </tr>\n",
       "  </tbody>\n",
       "</table>\n",
       "</div>"
      ],
      "text/plain": [
       "                     temp  dwpt  rhum  prcp  snow  wdir  wspd  wpgt  pres  \\\n",
       "time                                                                        \n",
       "2010-06-29 09:00:00  <NA>  <NA>  <NA>  <NA>  <NA>  <NA>  <NA>  <NA>  <NA>   \n",
       "2011-03-06 06:00:00  <NA>  <NA>  <NA>  <NA>  <NA>  <NA>  <NA>  <NA>  <NA>   \n",
       "2011-05-08 11:00:00  <NA>  <NA>  <NA>  <NA>  <NA>  <NA>  <NA>  <NA>  <NA>   \n",
       "\n",
       "                     tsun  coco  \n",
       "time                             \n",
       "2010-06-29 09:00:00  <NA>  <NA>  \n",
       "2011-03-06 06:00:00  <NA>  <NA>  \n",
       "2011-05-08 11:00:00  <NA>  <NA>  "
      ]
     },
     "execution_count": 84,
     "metadata": {},
     "output_type": "execute_result"
    }
   ],
   "source": [
    "# MISSING ROWS\n",
    "null_rows = hourly_weather_df[hourly_weather_df.isnull().all(axis=1)]\n",
    "null_rows.head()"
   ]
  },
  {
   "cell_type": "code",
   "execution_count": 86,
   "id": "d550e63b-3684-4bc6-afd6-975ab31c99fa",
   "metadata": {},
   "outputs": [
    {
     "data": {
      "text/plain": [
       "(42287, 11)"
      ]
     },
     "execution_count": 86,
     "metadata": {},
     "output_type": "execute_result"
    }
   ],
   "source": [
    "hourly_weather_df.shape"
   ]
  },
  {
   "cell_type": "code",
   "execution_count": 88,
   "id": "36dba0bf-8e85-41b0-9eae-56925f4f1f7a",
   "metadata": {},
   "outputs": [
    {
     "data": {
      "text/html": [
       "<div>\n",
       "<style scoped>\n",
       "    .dataframe tbody tr th:only-of-type {\n",
       "        vertical-align: middle;\n",
       "    }\n",
       "\n",
       "    .dataframe tbody tr th {\n",
       "        vertical-align: top;\n",
       "    }\n",
       "\n",
       "    .dataframe thead th {\n",
       "        text-align: right;\n",
       "    }\n",
       "</style>\n",
       "<table border=\"1\" class=\"dataframe\">\n",
       "  <thead>\n",
       "    <tr style=\"text-align: right;\">\n",
       "      <th></th>\n",
       "      <th>temp</th>\n",
       "      <th>dwpt</th>\n",
       "      <th>rhum</th>\n",
       "      <th>prcp</th>\n",
       "      <th>snow</th>\n",
       "      <th>wdir</th>\n",
       "      <th>wspd</th>\n",
       "      <th>wpgt</th>\n",
       "      <th>pres</th>\n",
       "      <th>tsun</th>\n",
       "      <th>coco</th>\n",
       "    </tr>\n",
       "    <tr>\n",
       "      <th>time</th>\n",
       "      <th></th>\n",
       "      <th></th>\n",
       "      <th></th>\n",
       "      <th></th>\n",
       "      <th></th>\n",
       "      <th></th>\n",
       "      <th></th>\n",
       "      <th></th>\n",
       "      <th></th>\n",
       "      <th></th>\n",
       "      <th></th>\n",
       "    </tr>\n",
       "  </thead>\n",
       "  <tbody>\n",
       "    <tr>\n",
       "      <th>2011-11-26 20:00:00</th>\n",
       "      <td>6.80</td>\n",
       "      <td>4.80</td>\n",
       "      <td>87.00</td>\n",
       "      <td>0.00</td>\n",
       "      <td>&lt;NA&gt;</td>\n",
       "      <td>200.00</td>\n",
       "      <td>14.80</td>\n",
       "      <td>&lt;NA&gt;</td>\n",
       "      <td>1030.60</td>\n",
       "      <td>&lt;NA&gt;</td>\n",
       "      <td>&lt;NA&gt;</td>\n",
       "    </tr>\n",
       "    <tr>\n",
       "      <th>2011-11-26 21:00:00</th>\n",
       "      <td>6.60</td>\n",
       "      <td>4.80</td>\n",
       "      <td>88.00</td>\n",
       "      <td>&lt;NA&gt;</td>\n",
       "      <td>&lt;NA&gt;</td>\n",
       "      <td>200.00</td>\n",
       "      <td>13.00</td>\n",
       "      <td>&lt;NA&gt;</td>\n",
       "      <td>1030.10</td>\n",
       "      <td>&lt;NA&gt;</td>\n",
       "      <td>&lt;NA&gt;</td>\n",
       "    </tr>\n",
       "    <tr>\n",
       "      <th>2011-11-26 22:00:00</th>\n",
       "      <td>6.40</td>\n",
       "      <td>4.60</td>\n",
       "      <td>88.00</td>\n",
       "      <td>0.00</td>\n",
       "      <td>&lt;NA&gt;</td>\n",
       "      <td>190.00</td>\n",
       "      <td>11.20</td>\n",
       "      <td>&lt;NA&gt;</td>\n",
       "      <td>1029.90</td>\n",
       "      <td>&lt;NA&gt;</td>\n",
       "      <td>&lt;NA&gt;</td>\n",
       "    </tr>\n",
       "    <tr>\n",
       "      <th>2011-11-26 23:00:00</th>\n",
       "      <td>6.20</td>\n",
       "      <td>4.40</td>\n",
       "      <td>88.00</td>\n",
       "      <td>0.00</td>\n",
       "      <td>&lt;NA&gt;</td>\n",
       "      <td>200.00</td>\n",
       "      <td>11.20</td>\n",
       "      <td>&lt;NA&gt;</td>\n",
       "      <td>1029.60</td>\n",
       "      <td>&lt;NA&gt;</td>\n",
       "      <td>&lt;NA&gt;</td>\n",
       "    </tr>\n",
       "    <tr>\n",
       "      <th>2011-11-27 00:00:00</th>\n",
       "      <td>6.40</td>\n",
       "      <td>4.90</td>\n",
       "      <td>90.00</td>\n",
       "      <td>&lt;NA&gt;</td>\n",
       "      <td>&lt;NA&gt;</td>\n",
       "      <td>210.00</td>\n",
       "      <td>14.80</td>\n",
       "      <td>&lt;NA&gt;</td>\n",
       "      <td>1029.00</td>\n",
       "      <td>&lt;NA&gt;</td>\n",
       "      <td>&lt;NA&gt;</td>\n",
       "    </tr>\n",
       "  </tbody>\n",
       "</table>\n",
       "</div>"
      ],
      "text/plain": [
       "                     temp  dwpt  rhum  prcp  snow   wdir  wspd  wpgt    pres  \\\n",
       "time                                                                           \n",
       "2011-11-26 20:00:00  6.80  4.80 87.00  0.00  <NA> 200.00 14.80  <NA> 1030.60   \n",
       "2011-11-26 21:00:00  6.60  4.80 88.00  <NA>  <NA> 200.00 13.00  <NA> 1030.10   \n",
       "2011-11-26 22:00:00  6.40  4.60 88.00  0.00  <NA> 190.00 11.20  <NA> 1029.90   \n",
       "2011-11-26 23:00:00  6.20  4.40 88.00  0.00  <NA> 200.00 11.20  <NA> 1029.60   \n",
       "2011-11-27 00:00:00  6.40  4.90 90.00  <NA>  <NA> 210.00 14.80  <NA> 1029.00   \n",
       "\n",
       "                     tsun  coco  \n",
       "time                             \n",
       "2011-11-26 20:00:00  <NA>  <NA>  \n",
       "2011-11-26 21:00:00  <NA>  <NA>  \n",
       "2011-11-26 22:00:00  <NA>  <NA>  \n",
       "2011-11-26 23:00:00  <NA>  <NA>  \n",
       "2011-11-27 00:00:00  <NA>  <NA>  "
      ]
     },
     "execution_count": 88,
     "metadata": {},
     "output_type": "execute_result"
    }
   ],
   "source": [
    "hourly_weather_df.tail()"
   ]
  },
  {
   "cell_type": "code",
   "execution_count": 90,
   "id": "e938b96f-cf94-4902-9779-b2a387957471",
   "metadata": {},
   "outputs": [
    {
     "name": "stdout",
     "output_type": "stream",
     "text": [
      "Missing Ratio of temp : 0.02%\n",
      "Missing Ratio of dwpt : 0.09%\n",
      "Missing Ratio of rhum : 0.09%\n",
      "Missing Ratio of prcp : 37.91%\n",
      "Missing Ratio of snow : 100.00%\n",
      "Missing Ratio of wdir : 0.10%\n",
      "Missing Ratio of wspd : 0.10%\n",
      "Missing Ratio of wpgt : 100.00%\n",
      "Missing Ratio of pres : 0.09%\n",
      "Missing Ratio of tsun : 100.00%\n",
      "Missing Ratio of coco : 100.00%\n",
      "\n",
      " ['temp', 'dwpt', 'rhum', 'wdir', 'wspd', 'pres']\n"
     ]
    }
   ],
   "source": [
    "num_col1 = hourly_weather_df.select_dtypes(include=['number']).columns.tolist()\n",
    "col_to_interpolate = []\n",
    "\n",
    "for col in num_col1:\n",
    "    missing_rows = hourly_weather_df[col].isnull().sum()\n",
    "    total_rows = len(hourly_weather_df[col])\n",
    "    missing_ratio = missing_rows/total_rows\n",
    "    print(f\"Missing Ratio of {col} : {(missing_ratio*100):.2f}%\")\n",
    "    if (missing_ratio * 100) < 1:\n",
    "        col_to_interpolate.append(col)\n",
    "\n",
    "print(\"\\n\", col_to_interpolate)"
   ]
  },
  {
   "cell_type": "code",
   "execution_count": 92,
   "id": "cbeb97a9-8d71-4e21-957a-f8d548ec6213",
   "metadata": {},
   "outputs": [],
   "source": [
    "# dropping columns have no values\n",
    "hourly_weather_df.drop(columns=['snow', 'wpgt', 'tsun', 'coco'], inplace=True)"
   ]
  },
  {
   "cell_type": "code",
   "execution_count": 94,
   "id": "ea04a2d8-528f-40fe-80b7-d0aa15cc25a2",
   "metadata": {},
   "outputs": [],
   "source": [
    "# setting datetime as index\n",
    "hourly_weather_df.index = pd.to_datetime(hourly_weather_df.index)\n",
    "hourly_weather_df = hourly_weather_df.sort_index()"
   ]
  },
  {
   "cell_type": "code",
   "execution_count": 96,
   "id": "63746936-3efd-45c9-87cf-463ac0f62952",
   "metadata": {},
   "outputs": [],
   "source": [
    "# filling (~ <1%) missing values with time interpolation\n",
    "for col in col_to_interpolate:\n",
    "    hourly_weather_df[col] = hourly_weather_df[col].interpolate(method=\"time\").bfill().ffill()"
   ]
  },
  {
   "cell_type": "code",
   "execution_count": 98,
   "id": "9ad557ad-e93f-4337-a070-4df71d6dabe5",
   "metadata": {},
   "outputs": [
    {
     "data": {
      "text/plain": [
       "Index(['temp', 'dwpt', 'rhum', 'prcp', 'wdir', 'wspd', 'pres'], dtype='object')"
      ]
     },
     "execution_count": 98,
     "metadata": {},
     "output_type": "execute_result"
    }
   ],
   "source": [
    "hourly_weather_df.columns"
   ]
  },
  {
   "cell_type": "code",
   "execution_count": 100,
   "id": "4b5b015c-61f6-4252-ba8e-34a2b4113674",
   "metadata": {},
   "outputs": [
    {
     "name": "stdout",
     "output_type": "stream",
     "text": [
      "After Interpolation\n",
      "\n"
     ]
    },
    {
     "data": {
      "text/html": [
       "<div>\n",
       "<style scoped>\n",
       "    .dataframe tbody tr th:only-of-type {\n",
       "        vertical-align: middle;\n",
       "    }\n",
       "\n",
       "    .dataframe tbody tr th {\n",
       "        vertical-align: top;\n",
       "    }\n",
       "\n",
       "    .dataframe thead th {\n",
       "        text-align: right;\n",
       "    }\n",
       "</style>\n",
       "<table border=\"1\" class=\"dataframe\">\n",
       "  <thead>\n",
       "    <tr style=\"text-align: right;\">\n",
       "      <th></th>\n",
       "      <th>temp</th>\n",
       "      <th>dwpt</th>\n",
       "      <th>rhum</th>\n",
       "      <th>prcp</th>\n",
       "      <th>wdir</th>\n",
       "      <th>wspd</th>\n",
       "      <th>pres</th>\n",
       "    </tr>\n",
       "  </thead>\n",
       "  <tbody>\n",
       "    <tr>\n",
       "      <th>count</th>\n",
       "      <td>42287.00</td>\n",
       "      <td>42287.00</td>\n",
       "      <td>42287.00</td>\n",
       "      <td>26256.00</td>\n",
       "      <td>42287.00</td>\n",
       "      <td>42287.00</td>\n",
       "      <td>42287.00</td>\n",
       "    </tr>\n",
       "    <tr>\n",
       "      <th>mean</th>\n",
       "      <td>12.51</td>\n",
       "      <td>6.80</td>\n",
       "      <td>70.78</td>\n",
       "      <td>0.07</td>\n",
       "      <td>189.74</td>\n",
       "      <td>10.82</td>\n",
       "      <td>1016.58</td>\n",
       "    </tr>\n",
       "    <tr>\n",
       "      <th>std</th>\n",
       "      <td>6.99</td>\n",
       "      <td>5.58</td>\n",
       "      <td>16.59</td>\n",
       "      <td>0.48</td>\n",
       "      <td>103.77</td>\n",
       "      <td>5.27</td>\n",
       "      <td>9.37</td>\n",
       "    </tr>\n",
       "    <tr>\n",
       "      <th>min</th>\n",
       "      <td>-8.70</td>\n",
       "      <td>-17.00</td>\n",
       "      <td>16.00</td>\n",
       "      <td>0.00</td>\n",
       "      <td>0.00</td>\n",
       "      <td>0.00</td>\n",
       "      <td>970.70</td>\n",
       "    </tr>\n",
       "    <tr>\n",
       "      <th>25%</th>\n",
       "      <td>7.50</td>\n",
       "      <td>3.00</td>\n",
       "      <td>59.00</td>\n",
       "      <td>0.00</td>\n",
       "      <td>110.00</td>\n",
       "      <td>7.60</td>\n",
       "      <td>1011.30</td>\n",
       "    </tr>\n",
       "    <tr>\n",
       "      <th>50%</th>\n",
       "      <td>12.70</td>\n",
       "      <td>7.30</td>\n",
       "      <td>74.00</td>\n",
       "      <td>0.00</td>\n",
       "      <td>200.00</td>\n",
       "      <td>11.20</td>\n",
       "      <td>1017.00</td>\n",
       "    </tr>\n",
       "    <tr>\n",
       "      <th>75%</th>\n",
       "      <td>17.50</td>\n",
       "      <td>10.90</td>\n",
       "      <td>84.00</td>\n",
       "      <td>0.00</td>\n",
       "      <td>270.00</td>\n",
       "      <td>14.80</td>\n",
       "      <td>1022.60</td>\n",
       "    </tr>\n",
       "    <tr>\n",
       "      <th>max</th>\n",
       "      <td>36.40</td>\n",
       "      <td>22.20</td>\n",
       "      <td>99.00</td>\n",
       "      <td>27.00</td>\n",
       "      <td>360.00</td>\n",
       "      <td>48.20</td>\n",
       "      <td>1043.50</td>\n",
       "    </tr>\n",
       "  </tbody>\n",
       "</table>\n",
       "</div>"
      ],
      "text/plain": [
       "          temp     dwpt     rhum     prcp     wdir     wspd     pres\n",
       "count 42287.00 42287.00 42287.00 26256.00 42287.00 42287.00 42287.00\n",
       "mean     12.51     6.80    70.78     0.07   189.74    10.82  1016.58\n",
       "std       6.99     5.58    16.59     0.48   103.77     5.27     9.37\n",
       "min      -8.70   -17.00    16.00     0.00     0.00     0.00   970.70\n",
       "25%       7.50     3.00    59.00     0.00   110.00     7.60  1011.30\n",
       "50%      12.70     7.30    74.00     0.00   200.00    11.20  1017.00\n",
       "75%      17.50    10.90    84.00     0.00   270.00    14.80  1022.60\n",
       "max      36.40    22.20    99.00    27.00   360.00    48.20  1043.50"
      ]
     },
     "execution_count": 100,
     "metadata": {},
     "output_type": "execute_result"
    }
   ],
   "source": [
    "print(\"After Interpolation\\n\")\n",
    "hourly_weather_df.describe()"
   ]
  },
  {
   "cell_type": "code",
   "execution_count": 137,
   "id": "ae776e16-9b3e-42a5-9252-5fd32be98ca2",
   "metadata": {},
   "outputs": [
    {
     "name": "stdout",
     "output_type": "stream",
     "text": [
      "Before prcp filling: \n"
     ]
    },
    {
     "data": {
      "text/plain": [
       "count   42287.00\n",
       "mean        0.39\n",
       "std         0.92\n",
       "min         0.00\n",
       "25%         0.00\n",
       "50%         0.00\n",
       "75%         0.50\n",
       "max        27.00\n",
       "Name: prcp, dtype: float64"
      ]
     },
     "execution_count": 137,
     "metadata": {},
     "output_type": "execute_result"
    }
   ],
   "source": [
    "print(\"Before prcp filling: \")\n",
    "hourly_weather_df['prcp'] = hourly_weather_df['prcp'].round(1)\n",
    "before_prcp = hourly_weather_df['prcp']\n",
    "hourly_weather_df['prcp'].describe()"
   ]
  },
  {
   "cell_type": "code",
   "execution_count": 104,
   "id": "3ff5df87-2ad0-43bf-8763-6ad9fcfc6a91",
   "metadata": {},
   "outputs": [
    {
     "data": {
      "text/plain": [
       "16031"
      ]
     },
     "execution_count": 104,
     "metadata": {},
     "output_type": "execute_result"
    }
   ],
   "source": [
    "hourly_weather_df['prcp'].isnull().sum()"
   ]
  },
  {
   "cell_type": "code",
   "execution_count": 106,
   "id": "3ce1bdf5-aa6d-45f1-afc8-e80e23647860",
   "metadata": {},
   "outputs": [],
   "source": [
    "## FILLING <+3 hour gap in precipitation\n",
    "\n",
    "# Step A: Detect gaps\n",
    "mask_na = hourly_weather_df['prcp'].isna()        # series of bool\n",
    "gap_id = (mask_na != mask_na.shift()).cumsum()    # series of shifted mask_na cumulative sum\n",
    "gaps = hourly_weather_df.groupby(gap_id)          # group by gap id dict with gaps_id as key and group as column"
   ]
  },
  {
   "cell_type": "code",
   "execution_count": 108,
   "id": "82927bcd-c5fe-4c83-a37f-dbe0e80dfed8",
   "metadata": {},
   "outputs": [],
   "source": [
    "# Step B: Get group length and apply linear fill between gaps\n",
    "for gid, group in gaps:\n",
    "    if not group['prcp'].isna().all(): ## Ignoring groups with some prcp valid values\n",
    "        continue\n",
    "\n",
    "    gap_len = len(group)\n",
    "\n",
    "    if gap_len <= 3:\n",
    "        start_index = group.index[0] - pd.Timedelta(hours=1)\n",
    "        end_index = group.index[-1] + pd.Timedelta(hours=1)\n",
    "\n",
    "        start_value = hourly_weather_df['prcp'].get(start_index, np.nan)\n",
    "        end_value = hourly_weather_df['prcp'].get(end_index, np.nan)\n",
    "\n",
    "        if pd.notna(start_value) and pd.notna(end_value) and start_value > 0 and end_value > 0:\n",
    "            hourly_weather_df.loc[group.index, 'prcp'] = np.linspace(start_value, end_value, gap_len+2)[1:-1]"
   ]
  },
  {
   "cell_type": "code",
   "execution_count": 109,
   "id": "b99fc4ab-29a6-4442-99f3-5a1aff00ac9e",
   "metadata": {},
   "outputs": [
    {
     "data": {
      "text/plain": [
       "15381"
      ]
     },
     "execution_count": 109,
     "metadata": {},
     "output_type": "execute_result"
    }
   ],
   "source": [
    "hourly_weather_df['prcp'].isnull().sum()"
   ]
  },
  {
   "cell_type": "code",
   "execution_count": 112,
   "id": "d9197e89-04d2-44b2-96f3-853a92c4a983",
   "metadata": {},
   "outputs": [],
   "source": [
    "## Climate + Stochastic Sampling for long gaps\n",
    "\n",
    "hourly_weather_df['month'] = hourly_weather_df.index.month\n",
    "hourly_weather_df['hour'] = hourly_weather_df.index.hour\n",
    "\n",
    "climate_groups = hourly_weather_df.groupby(['month', 'hour'])['prcp'].apply(list)"
   ]
  },
  {
   "cell_type": "code",
   "execution_count": 114,
   "id": "5b2b4c0c-decc-4f28-9d54-a1a1bb349f20",
   "metadata": {},
   "outputs": [],
   "source": [
    "np.random.seed(42)\n",
    "\n",
    "def stochastic_fill(row):\n",
    "    if pd.isna(row['prcp']):\n",
    "        values = [v for v in climate_groups.loc[(row['month'], row['hour'])] if pd.notna(v)]\n",
    "        if len(values) > 0:\n",
    "            return np.random.choice(values)  # random draw from historical values\n",
    "        else:\n",
    "            return 0.0  # fallback\n",
    "    else:\n",
    "        return row['prcp']\n",
    "\n",
    "hourly_weather_df['prcp'] = hourly_weather_df.apply(stochastic_fill, axis=1)\n",
    "\n",
    "# Clean up helper columns\n",
    "hourly_weather_df.drop(columns=['month', 'hour'], inplace=True)"
   ]
  },
  {
   "cell_type": "code",
   "execution_count": 115,
   "id": "4616e844-2bec-4079-b13f-e48aae30a0de",
   "metadata": {},
   "outputs": [
    {
     "name": "stdout",
     "output_type": "stream",
     "text": [
      "<class 'pandas.core.frame.DataFrame'>\n",
      "DatetimeIndex: 42287 entries, 2006-12-16 00:00:00 to 2011-11-27 00:00:00\n",
      "Data columns (total 7 columns):\n",
      " #   Column  Non-Null Count  Dtype  \n",
      "---  ------  --------------  -----  \n",
      " 0   temp    42287 non-null  Float64\n",
      " 1   dwpt    42287 non-null  Float64\n",
      " 2   rhum    42287 non-null  Float64\n",
      " 3   prcp    42287 non-null  float64\n",
      " 4   wdir    42287 non-null  Float64\n",
      " 5   wspd    42287 non-null  Float64\n",
      " 6   pres    42287 non-null  Float64\n",
      "dtypes: Float64(6), float64(1)\n",
      "memory usage: 3.8 MB\n"
     ]
    }
   ],
   "source": [
    "hourly_weather_df.info()"
   ]
  },
  {
   "cell_type": "code",
   "execution_count": 118,
   "id": "a1090336-3f61-4115-a22a-a62d032fcdcf",
   "metadata": {},
   "outputs": [
    {
     "data": {
      "text/plain": [
       "0"
      ]
     },
     "execution_count": 118,
     "metadata": {},
     "output_type": "execute_result"
    }
   ],
   "source": [
    "hourly_weather_df['prcp'].isnull().sum()"
   ]
  },
  {
   "cell_type": "code",
   "execution_count": 128,
   "id": "138f5867-fbd5-45ce-9efe-314b0749a3c9",
   "metadata": {},
   "outputs": [
    {
     "name": "stdout",
     "output_type": "stream",
     "text": [
      "After prcp filling:\n",
      "\n"
     ]
    },
    {
     "data": {
      "text/plain": [
       "count   42287.00\n",
       "mean        0.39\n",
       "std         0.92\n",
       "min         0.00\n",
       "25%         0.00\n",
       "50%         0.00\n",
       "75%         0.50\n",
       "max        27.00\n",
       "Name: prcp, dtype: float64"
      ]
     },
     "execution_count": 128,
     "metadata": {},
     "output_type": "execute_result"
    }
   ],
   "source": [
    "print(\"After prcp filling:\\n\")\n",
    "hourly_weather_df['prcp'] = hourly_weather_df['prcp'].round(1)\n",
    "after_prcp = hourly_weather_df['prcp']\n",
    "hourly_weather_df['prcp'].describe()"
   ]
  },
  {
   "cell_type": "code",
   "execution_count": 130,
   "id": "4cb45c9c-5854-49cb-a5a3-4c1a887b0962",
   "metadata": {},
   "outputs": [
    {
     "data": {
      "image/png": "[encoded data removed]",
      "text/plain": [
       "<Figure size 2000x700 with 2 Axes>"
      ]
     },
     "metadata": {},
     "output_type": "display_data"
    }
   ],
   "source": [
    "plt.figure(figsize=(20, 7))\n",
    "plt.subplot(2,1,1)\n",
    "plt.plot(hourly_weather_df.index, before_prcp, marker='o', markersize=3, label=\"Before Fill\")\n",
    "plt.ylabel(\"Precipitation\")\n",
    "plt.title(\"Precipitation Distribution Before Fill\")\n",
    "plt.legend()\n",
    "\n",
    "plt.subplot(2,1,2)\n",
    "plt.plot(hourly_weather_df.index, after_prcp, marker='x', label=\"After Fill\", color='orange')\n",
    "plt.xlabel(\"Time Period\")\n",
    "plt.ylabel(\"Precipitation\")\n",
    "plt.title(\"Precipitation Distribution After Fill\")\n",
    "\n",
    "plt.legend()\n",
    "plt.show()"
   ]
  },
  {
   "cell_type": "code",
   "execution_count": 131,
   "id": "b7096c1a-021d-4915-95db-7a634c28cf2d",
   "metadata": {},
   "outputs": [
    {
     "name": "stdout",
     "output_type": "stream",
     "text": [
      "Before: \n",
      " 2663 outliers \n",
      " 16.97 skewness\n",
      "\n",
      "After: \n",
      " 3812 outliers \n",
      " 6.94 skewness\n"
     ]
    }
   ],
   "source": [
    "def find_outliers_iqr(data):\n",
    "    Q1 = data.quantile(0.25)\n",
    "    Q3 = data.quantile(0.75)\n",
    "    IQR = Q3 - Q1\n",
    "    lower_bound = Q1 - 1.5*IQR\n",
    "    upper_bound = Q3 + 1.5*IQR\n",
    "    outliers = data[(data < (Q1 - 1.5*IQR)) | (data > (Q3 + 1.5*IQR))]\n",
    "    return outliers\n",
    "\n",
    "s = pd.Series(before_prcp)\n",
    "outliers = find_outliers_iqr(s)\n",
    "print(f\"Before: \\n {len(outliers)} outliers \\n {before_prcp.skew():.2f} skewness\")\n",
    "\n",
    "s1 = pd.Series(after_prcp)\n",
    "outliers1 = find_outliers_iqr(s1)\n",
    "print(f\"\\nAfter: \\n {len(outliers1)} outliers \\n {after_prcp.skew():.2f} skewness\")"
   ]
  },
  {
   "cell_type": "code",
   "execution_count": 134,
   "id": "11346165-1960-446e-bc6f-422fd51a9b3d",
   "metadata": {},
   "outputs": [],
   "source": [
    "hourly_weather_df.to_csv(\"paris_sceaux_weather.csv\")"
   ]
  }
 ],
 "metadata": {
  "kernelspec": {
   "display_name": "Python [conda env:base] *",
   "language": "python",
   "name": "conda-base-py"
  },
  "language_info": {
   "codemirror_mode": {
    "name": "ipython",
    "version": 3
   },
   "file_extension": ".py",
   "mimetype": "text/x-python",
   "name": "python",
   "nbconvert_exporter": "python",
   "pygments_lexer": "ipython3",
   "version": "3.12.3"
  }
 },
 "nbformat": 4,
 "nbformat_minor": 5
}
